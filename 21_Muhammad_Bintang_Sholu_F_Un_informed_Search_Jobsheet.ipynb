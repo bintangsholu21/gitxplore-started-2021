{
  "nbformat": 4,
  "nbformat_minor": 0,
  "metadata": {
    "colab": {
      "provenance": [],
      "collapsed_sections": [],
      "authorship_tag": "ABX9TyNr3mUNpZ6tX4Xc/b7Od4qm",
      "include_colab_link": true
    },
    "kernelspec": {
      "name": "python3",
      "display_name": "Python 3"
    },
    "language_info": {
      "name": "python"
    }
  },
  "cells": [
    {
      "cell_type": "markdown",
      "metadata": {
        "id": "view-in-github",
        "colab_type": "text"
      },
      "source": [
        "<a href=\"https://colab.research.google.com/github/bintangsholu21/gitxplore-started-2021/blob/main/21_Muhammad_Bintang_Sholu_F_Un_informed_Search_Jobsheet.ipynb\" target=\"_parent\"><img src=\"https://colab.research.google.com/assets/colab-badge.svg\" alt=\"Open In Colab\"/></a>"
      ]
    },
    {
      "cell_type": "markdown",
      "source": [
        "1.3\tPercobaan 1 - Breadth-First Search"
      ],
      "metadata": {
        "id": "EC4vtTjkTJiq"
      }
    },
    {
      "cell_type": "code",
      "execution_count": 36,
      "metadata": {
        "colab": {
          "base_uri": "https://localhost:8080/"
        },
        "id": "aDLaFHXe89Xl",
        "outputId": "3e03418b-815c-4bf7-afc5-4c801bbc1887"
      },
      "outputs": [
        {
          "output_type": "stream",
          "name": "stdout",
          "text": [
            "Hasil penelusuruan graf menggunakan bfs:\n",
            "A B C D E F G H "
          ]
        }
      ],
      "source": [
        "graph = {\n",
        "    'A' : ['B', 'C'],\n",
        "    'B' : ['A', 'D', 'E'],\n",
        "    'C' : ['F', 'A'],\n",
        "    'D' : ['B'],\n",
        "    'E' : ['B', 'F', 'G'],\n",
        "    'F' : ['C', 'E', 'H'],\n",
        "    'G' : ['H'],\n",
        "    'H' : ['F','G']\n",
        "}\n",
        "\n",
        "visited = [] # List to keep track of visited nodes.\n",
        "queue = [] #Initialize a queue\n",
        "\n",
        "def bfs(visited, graph, node) :\n",
        "  visited.append(node)\n",
        "  queue.append(node)\n",
        "\n",
        "  while queue :\n",
        "    s = queue.pop(0)\n",
        "    print(s, end = \" \")\n",
        "\n",
        "    for neighbour in graph[s]:\n",
        "      if neighbour not in visited:\n",
        "        visited.append(neighbour)\n",
        "        queue.append(neighbour)\n",
        "\n",
        "print(\"Hasil penelusuruan graf menggunakan bfs:\")\n",
        "bfs(visited, graph, 'A')"
      ]
    },
    {
      "cell_type": "markdown",
      "source": [
        "1.4\tPraktikum 2 - Depth-First Search"
      ],
      "metadata": {
        "id": "PQV1SVZiTX7c"
      }
    },
    {
      "cell_type": "code",
      "source": [
        "graph = {\n",
        "    'A' : ['B', 'C'],\n",
        "    'B' : ['A', 'D', 'E'],\n",
        "    'C' : ['F', 'A'],\n",
        "    'D' : ['B'],\n",
        "    'E' : ['B', 'F', 'G'],\n",
        "    'F' : ['C', 'E', 'H'],\n",
        "    'G' : ['H'],\n",
        "    'H' : ['F','G']\n",
        "}\n",
        "visited = set()\n",
        "def dfs(visited, graph, node):\n",
        "  if node not in visited:\n",
        "    print(node)\n",
        "    visited.add(node)\n",
        "    for neighbour in graph[node]:\n",
        "      dfs(visited, graph, neighbour)\n",
        "\n",
        "print(\"Hasil penelusuran graf menggunakan DFS:\")\n",
        "dfs(visited, graph, 'A')"
      ],
      "metadata": {
        "colab": {
          "base_uri": "https://localhost:8080/"
        },
        "id": "KYTjn9TQ_Ce6",
        "outputId": "d2b1b800-019d-4824-a96b-d3d301141a62"
      },
      "execution_count": 35,
      "outputs": [
        {
          "output_type": "stream",
          "name": "stdout",
          "text": [
            "Hasil penelusuran graf menggunakan DFS:\n",
            "A\n",
            "B\n",
            "D\n",
            "E\n",
            "F\n",
            "C\n",
            "H\n",
            "G\n"
          ]
        }
      ]
    },
    {
      "cell_type": "markdown",
      "source": [
        "**1.5\tLatihan Praktikum**"
      ],
      "metadata": {
        "id": "rSJOdun1TfKN"
      }
    },
    {
      "cell_type": "markdown",
      "source": [
        "1.\tTelusuri graf berikut menggunakan:\n"
      ],
      "metadata": {
        "id": "m8tz46T4TkQR"
      }
    },
    {
      "cell_type": "code",
      "source": [
        "graph = {\n",
        "    'A' : ['B', 'E', 'F'],\n",
        "    'B' : ['A', 'F', 'G'],\n",
        "    'C' : ['G', 'D'],\n",
        "    'D' : ['C', 'H'],\n",
        "    'E' : ['A', 'F'],\n",
        "    'F' : ['A', 'B', 'E'],\n",
        "    'G' : ['B', 'C', 'H'],\n",
        "    'H' : ['D', 'G']\n",
        "}\n",
        "\n",
        "# 1. BFS\n",
        "visited = [] # List to keep track of visited nodes.\n",
        "queue = [] #Initialize a queue\n",
        "\n",
        "def bfs(visited, graph, node) :\n",
        "  visited.append(node)\n",
        "  queue.append(node)\n",
        "\n",
        "  while queue :\n",
        "    s = queue.pop(0)\n",
        "    print(s, end = \" \")\n",
        "\n",
        "    for neighbour in graph[s]:\n",
        "      if neighbour not in visited:\n",
        "        visited.append(neighbour)\n",
        "        queue.append(neighbour)\n",
        "\n",
        "\n",
        "print(\"Hasil penelusuruan graf menggunakan BFS:\")\n",
        "bfs(visited, graph, 'A')\n",
        "\n",
        "# 2. DFS\n",
        "visited = set()\n",
        "def dfs(visited, graph, node):\n",
        "  if node not in visited:\n",
        "    print(node)\n",
        "    visited.add(node)\n",
        "    for neighbour in graph[node]:\n",
        "      dfs(visited, graph, neighbour)\n",
        "\n",
        "\n",
        "print(\"\\n\\nHasil penelusuran graf menggunakan DFS:\")\n",
        "dfs(visited, graph, 'A')"
      ],
      "metadata": {
        "colab": {
          "base_uri": "https://localhost:8080/"
        },
        "id": "0Qjlbu2pAsbM",
        "outputId": "f14f41a7-0746-4603-943a-a35d0293cca8"
      },
      "execution_count": 34,
      "outputs": [
        {
          "output_type": "stream",
          "name": "stdout",
          "text": [
            "Hasil penelusuruan graf menggunakan BFS:\n",
            "A B E F G C H D \n",
            "\n",
            "Hasil penelusuran graf menggunakan DFS:\n",
            "A\n",
            "B\n",
            "F\n",
            "E\n",
            "G\n",
            "C\n",
            "D\n",
            "H\n"
          ]
        }
      ]
    },
    {
      "cell_type": "code",
      "source": [
        "print(\"a. BFS\")\n",
        "graph = {\n",
        "    'A' : ['B'],\n",
        "    'B' : ['A', 'F', 'G'],\n",
        "    'C' : ['G', 'D'],\n",
        "    'D' : ['C', 'H'],\n",
        "    'E' : ['F'],\n",
        "    'F' : ['B', 'E'],\n",
        "    'G' : ['B', 'C'],\n",
        "    'H' : ['D']\n",
        "}\n",
        "\n",
        "visited = [] # List to keep track of visited nodes.\n",
        "queue = [] #Initialize a queue\n",
        "\n",
        "def bfs(visited, graph, node) :\n",
        "  visited.append(node)\n",
        "  queue.append(node)\n",
        "\n",
        "  while queue :\n",
        "    s = queue.pop(0)\n",
        "    print(s, end = \" \")\n",
        "    if s == 'D' :\n",
        "      break\n",
        "    \n",
        "\n",
        "    for neighbour in graph[s]:\n",
        "      if neighbour not in visited:\n",
        "        visited.append(neighbour)\n",
        "        queue.append(neighbour)\n",
        "\n",
        "\n",
        "print(\"Hasil penelusuruan graf menggunakan bfs:\")\n",
        "bfs(visited, graph, 'A')\n",
        "\n",
        "visited = set()\n",
        "def dfs(visited, graph, node):\n",
        "  if node not in visited:\n",
        "    print(node)\n",
        "    visited.add(node)\n",
        "    for neighbour in graph[node]:\n",
        "      dfs(visited, graph, neighbour)\n",
        "      if node == 'D' :\n",
        "        break\n",
        "\n",
        "print(\"\\n\\nB. DFS\")\n",
        "print(\"Hasil penelusuran graf menggunakan DFS:\")\n",
        "dfs(visited, graph, 'A')"
      ],
      "metadata": {
        "colab": {
          "base_uri": "https://localhost:8080/"
        },
        "id": "UotcSlmuCks8",
        "outputId": "2ee176d8-3494-4493-fcbe-f5697cdbfb4d"
      },
      "execution_count": 40,
      "outputs": [
        {
          "output_type": "stream",
          "name": "stdout",
          "text": [
            "a. BFS\n",
            "Hasil penelusuruan graf menggunakan bfs:\n",
            "A B F G E C D \n",
            "\n",
            "B. DFS\n",
            "Hasil penelusuran graf menggunakan DFS:\n",
            "A\n",
            "B\n",
            "F\n",
            "E\n",
            "G\n",
            "C\n",
            "D\n"
          ]
        }
      ]
    }
  ]
}